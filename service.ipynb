{
 "cells": [
  {
   "cell_type": "code",
   "execution_count": 137,
   "id": "03577c16-647f-4c8b-8a18-44b7fce4b6f2",
   "metadata": {},
   "outputs": [],
   "source": [
    "from datetime import date, timedelta\n",
    "from dotenv import load_dotenv\n",
    "from ipywidgets import (\n",
    "    interact, interactive, fixed, interact_manual, Layout\n",
    ")\n",
    "import ipywidgets as widgets\n",
    "import json\n",
    "import os\n",
    "import time\n",
    "import requests\n",
    "import pandas as pd\n",
    "\n",
    "load_dotenv()\n",
    "\n",
    "TOKEN = os.getenv('TOKEN')\n",
    "\n",
    "HEADERS = {\"Authorization\": f\"Bearer {TOKEN}\"}\n",
    "\n",
    "GRAPHQL_URL = \"https://api.github.com/graphql\""
   ]
  },
  {
   "cell_type": "code",
   "execution_count": 141,
   "id": "0f801cfa-470e-4e38-aaf5-abe88acd2c84",
   "metadata": {},
   "outputs": [
    {
     "data": {
      "application/vnd.jupyter.widget-view+json": {
       "model_id": "b5d62e48d28c4dfcb4174d3dc9438436",
       "version_major": 2,
       "version_minor": 0
      },
      "text/plain": [
       "DatePicker(value=datetime.date(2024, 7, 18), description='Start Date', step=1)"
      ]
     },
     "metadata": {},
     "output_type": "display_data"
    },
    {
     "data": {
      "application/vnd.jupyter.widget-view+json": {
       "model_id": "3d48e0fc4c3442e0bcbe426de7db484a",
       "version_major": 2,
       "version_minor": 0
      },
      "text/plain": [
       "DatePicker(value=datetime.date(2025, 7, 17), description='End Date', step=1)"
      ]
     },
     "metadata": {},
     "output_type": "display_data"
    },
    {
     "data": {
      "application/vnd.jupyter.widget-view+json": {
       "model_id": "66dcd01c569342fd82d71ca573be55e4",
       "version_major": 2,
       "version_minor": 0
      },
      "text/plain": [
       "Output()"
      ]
     },
     "metadata": {},
     "output_type": "display_data"
    }
   ],
   "source": [
    "start_date = widgets.DatePicker(\n",
    "    value=date.today() - timedelta(days=365),\n",
    "    description='Start Date',\n",
    "    disabled=False\n",
    ")\n",
    "end_date = widgets.DatePicker(\n",
    "    value=date.today() - timedelta(days=1),\n",
    "    description='End Date',\n",
    "    disabled=False\n",
    ")\n",
    "\n",
    "def fdate(start, end):\n",
    "    print(\n",
    "        \"\\nstart date: {}, end date: {}\\n\".format(start, end)\n",
    "    )\n",
    "\n",
    "date_out = widgets.interactive_output(\n",
    "    fdate, {\n",
    "        \"start\": start_date,\n",
    "        \"end\": end_date\n",
    "    }\n",
    ")\n",
    "\n",
    "display(start_date, end_date, date_out)"
   ]
  },
  {
   "cell_type": "code",
   "execution_count": 140,
   "id": "e8d8c15c-0eaf-430a-be38-e65e7aeff05b",
   "metadata": {},
   "outputs": [
    {
     "name": "stdout",
     "output_type": "stream",
     "text": [
      "\n",
      "Searching for commit authors since 2025-07-17T00:00:00 until 2025-07-18T00:00:00\n",
      "\n",
      "{'data': {'rateLimit': {'limit': 5000, 'cost': 1, 'remaining': 4945, 'resetAt': '2025-07-18T18:46:20Z'}, 'repository': {'ref': {'target': {'history': {'pageInfo': {'hasNextPage': False, 'startCursor': 'a4966bc299919426fd77e5272bb7aac6f30ab73c 0', 'endCursor': 'a4966bc299919426fd77e5272bb7aac6f30ab73c 6'}, 'edges': [{'node': {'author': {'name': 'Vapre', 'email': 'anvilvapre@users.noreply.github.com'}}}, {'node': {'author': {'name': 'Matthias Mailänder', 'email': 'matthias@mailaender.name'}}}, {'node': {'author': {'name': 'Matthias Mailänder', 'email': 'matthias@mailaender.name'}}}, {'node': {'author': {'name': 'Ashley Newson', 'email': 'ashleynewson@smartsim.org.uk'}}}, {'node': {'author': {'name': 'Ashley Newson', 'email': 'ashleynewson@smartsim.org.uk'}}}, {'node': {'author': {'name': 'darkademic', 'email': '41052878+darkademic@users.noreply.github.com'}}}, {'node': {'author': {'name': 'darkademic', 'email': '41052878+darkademic@users.noreply.github.com'}}}]}}}}}}\n",
      "Found 7 commits since 2025-07-17T00:00:00\n",
      "\n",
      "*** Unique authors: \n",
      "\n",
      "{'matthias@mailaender.name', '41052878+darkademic@users.noreply.github.com', 'anvilvapre@users.noreply.github.com', 'ashleynewson@smartsim.org.uk'}\n",
      "\n",
      "\n"
     ]
    }
   ],
   "source": [
    "def get_unique_commit_authors_between_dates(since, until):\n",
    "    \"\"\"\n",
    "    > Endpoint #1\n",
    "    \n",
    "    - Accepts: A start and end date.\n",
    "    \n",
    "    - Returns: A list of unique commit authors within the date constraints supplied.\n",
    "    \"\"\"\n",
    "    print(f\"\\nSearching for commit authors since {since} until {until}\\n\")\n",
    "    q = (\n",
    "        \"{ rateLimit { limit cost remaining resetAt } \"\n",
    "        \" repository(name: \\\"OpenRA\\\", owner: \\\"OpenRA\\\") { \"\n",
    "        \" ref(qualifiedName: \\\"bleed\\\") { target { ... on Commit { \"\n",
    "        f\" history( first: 50 since: \\\"{since}\\\" until: \\\"{until}\\\") \"\n",
    "        \" { pageInfo { hasNextPage startCursor endCursor } \"\n",
    "        \" edges { node { author { name email }}}}}}}}}\"\n",
    "    )\n",
    "    try:\n",
    "        authors = set()\n",
    "        while q is not None:\n",
    "            r = requests.post(\n",
    "                GRAPHQL_URL,\n",
    "                json={\"query\": q},\n",
    "                headers=HEADERS\n",
    "            )\n",
    "            if r.status_code == 429:\n",
    "                time.sleep(60)\n",
    "            if r.status_code != 200:\n",
    "                print(\"uh oh\")\n",
    "                raise\n",
    "            response = r.json()\n",
    "            print(response)\n",
    "            commits = response[\"data\"][\"repository\"][\"ref\"][\"target\"][\"history\"][\"edges\"]\n",
    "            print(f\"Found {len(commits)} commits since {since}\")\n",
    "            for commit in commits:\n",
    "                authors.add(commit[\"node\"][\"author\"][\"email\"])\n",
    "            if \"data\" in response and \\\n",
    "            response[\"data\"][\"repository\"][\"ref\"][\"target\"][\"history\"][\"pageInfo\"][\"hasNextPage\"] == True:\n",
    "                after = response[\"data\"][\"repository\"][\"ref\"][\"target\"][\"history\"][\"pageInfo\"][\"endCursor\"]\n",
    "                q = (\n",
    "                    \"{ rateLimit { limit cost remaining resetAt } \"\n",
    "                    \" repository(name: \\\"OpenRA\\\", owner: \\\"OpenRA\\\") { \"\n",
    "                    \" ref(qualifiedName: \\\"bleed\\\") { target { ... on Commit { \"\n",
    "                    f\" history( first: 50 after {after}) \"\n",
    "                    \" { pageInfo { hasNextPage startCursor endCursor } \"\n",
    "                    \" edges { node { author { name email }}}}}}}}}\"\n",
    "                )\n",
    "            else:\n",
    "                q = None\n",
    "        print(f\"\\n*** Unique authors: \\n\\n{authors}\\n\\n\")\n",
    "        return authors\n",
    "    except Exception as e:\n",
    "        print(e)\n",
    "        raise\n",
    "\n",
    "unique_authors = get_unique_commit_authors_between_dates(\n",
    "    f\"{start_date.value}T00:00:00\",\n",
    "    f\"{end_date.value}T00:00:00\"\n",
    ")"
   ]
  },
  {
   "cell_type": "code",
   "execution_count": 142,
   "id": "f3ed388b-b75c-44bc-97bf-6db12ebcff2b",
   "metadata": {},
   "outputs": [
    {
     "ename": "_IncompleteInputError",
     "evalue": "incomplete input (3277826035.py, line 1)",
     "output_type": "error",
     "traceback": [
      "  \u001b[36mCell\u001b[39m\u001b[36m \u001b[39m\u001b[32mIn[142]\u001b[39m\u001b[32m, line 1\u001b[39m\n\u001b[31m    \u001b[39m\u001b[31mdf = pd.DataFrame(list(unique_authors, columns=[\"author\"])\u001b[39m\n                                                              ^\n\u001b[31m_IncompleteInputError\u001b[39m\u001b[31m:\u001b[39m incomplete input\n"
     ]
    }
   ],
   "source": [
    "df = pd.DataFrame(list((unique_authors,), columns=[\"author\"])"
   ]
  },
  {
   "cell_type": "code",
   "execution_count": null,
   "id": "70301440-b999-4bac-ad55-9c373b3cd638",
   "metadata": {},
   "outputs": [],
   "source": []
  }
 ],
 "metadata": {
  "kernelspec": {
   "display_name": "Python 3 (ipykernel)",
   "language": "python",
   "name": "python3"
  },
  "language_info": {
   "codemirror_mode": {
    "name": "ipython",
    "version": 3
   },
   "file_extension": ".py",
   "mimetype": "text/x-python",
   "name": "python",
   "nbconvert_exporter": "python",
   "pygments_lexer": "ipython3",
   "version": "3.13.5"
  }
 },
 "nbformat": 4,
 "nbformat_minor": 5
}
