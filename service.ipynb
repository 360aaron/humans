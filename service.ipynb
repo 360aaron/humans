{
 "cells": [
  {
   "cell_type": "code",
   "execution_count": 1,
   "id": "03577c16-647f-4c8b-8a18-44b7fce4b6f2",
   "metadata": {},
   "outputs": [],
   "source": [
    "from dotenv import load_dotenv\n",
    "import os\n",
    "import requests\n",
    "\n",
    "load_dotenv()\n",
    "\n",
    "TOKEN = os.getenv('TOKEN')\n",
    "\n",
    "HEADERS = {\"Authorization\": f\"Bearer {TOKEN}\"}\n",
    "\n",
    "GRAPHQL_URL = \"https://api.github.com/graphql\"\n"
   ]
  },
  {
   "cell_type": "code",
   "execution_count": 4,
   "id": "0f801cfa-470e-4e38-aaf5-abe88acd2c84",
   "metadata": {},
   "outputs": [],
   "source": [
    "def get_unique_commit_authors_between_dates(start_date, end_date):\n",
    "    '''\n",
    "    > Endpoint #1\n",
    "    \n",
    "    - Accepts: A start and end date.\n",
    "    \n",
    "    - Returns: A list of unique commit authors within the date constraints supplied.\n",
    "    '''\n",
    "    \n",
    "    q = '{ repository(owner:\"OpenRA\", name:\"OpenRA\") {issues(last:3, states:CLOSED)} }'\n",
    "    \n",
    "    try:\n",
    "        r = requests.post(GRAPHQL_URL, json={\"query\": q}, headers=h)\n",
    "        print(r.status_code)\n",
    "        print(r.json())\n",
    "    except Exception as e:\n",
    "        print(e)\n"
   ]
  },
  {
   "cell_type": "code",
   "execution_count": 5,
   "id": "1cd7b6ac-2b60-49f1-a424-f889dfb63448",
   "metadata": {},
   "outputs": [
    {
     "name": "stdout",
     "output_type": "stream",
     "text": [
      "name 'url' is not defined\n"
     ]
    }
   ],
   "source": [
    "get_unique_commit_authors_between_dates(\"2025-07-17\", \"2025-07-18\")"
   ]
  },
  {
   "cell_type": "code",
   "execution_count": null,
   "id": "4dca9525-17fd-4d07-a27b-63161dca0763",
   "metadata": {},
   "outputs": [],
   "source": []
  }
 ],
 "metadata": {
  "kernelspec": {
   "display_name": "Python 3 (ipykernel)",
   "language": "python",
   "name": "python3"
  },
  "language_info": {
   "codemirror_mode": {
    "name": "ipython",
    "version": 3
   },
   "file_extension": ".py",
   "mimetype": "text/x-python",
   "name": "python",
   "nbconvert_exporter": "python",
   "pygments_lexer": "ipython3",
   "version": "3.13.5"
  }
 },
 "nbformat": 4,
 "nbformat_minor": 5
}
