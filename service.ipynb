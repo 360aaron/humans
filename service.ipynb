{
 "cells": [
  {
   "cell_type": "code",
   "execution_count": 57,
   "id": "03577c16-647f-4c8b-8a18-44b7fce4b6f2",
   "metadata": {},
   "outputs": [],
   "source": [
    "from dotenv import load_dotenv\n",
    "from ipywidgets import (\n",
    "    interact, interactive, fixed, interact_manual, Layout\n",
    ")\n",
    "import ipywidgets as widgets\n",
    "import json\n",
    "import os\n",
    "import requests\n",
    "\n",
    "load_dotenv()\n",
    "\n",
    "TOKEN = os.getenv('TOKEN')\n",
    "\n",
    "HEADERS = {\"Authorization\": f\"Bearer {TOKEN}\"}\n",
    "\n",
    "GRAPHQL_URL = \"https://api.github.com/graphql\""
   ]
  },
  {
   "cell_type": "code",
   "execution_count": 67,
   "id": "0f801cfa-470e-4e38-aaf5-abe88acd2c84",
   "metadata": {},
   "outputs": [
    {
     "data": {
      "application/vnd.jupyter.widget-view+json": {
       "model_id": "415f24ce2299440caa0c84b3f4bd261c",
       "version_major": 2,
       "version_minor": 0
      },
      "text/plain": [
       "DatePicker(value=None, description='Start Date', step=1)"
      ]
     },
     "metadata": {},
     "output_type": "display_data"
    },
    {
     "data": {
      "application/vnd.jupyter.widget-view+json": {
       "model_id": "95ede6fe19544f85a5347e255913ca44",
       "version_major": 2,
       "version_minor": 0
      },
      "text/plain": [
       "DatePicker(value=None, description='End Date', step=1)"
      ]
     },
     "metadata": {},
     "output_type": "display_data"
    },
    {
     "data": {
      "application/vnd.jupyter.widget-view+json": {
       "model_id": "7f5c075c509f4f1697a8ff242a3446ab",
       "version_major": 2,
       "version_minor": 0
      },
      "text/plain": [
       "Button(description='Click me', icon='check', style=ButtonStyle(), tooltip='Click me')"
      ]
     },
     "metadata": {},
     "output_type": "display_data"
    },
    {
     "data": {
      "application/vnd.jupyter.widget-view+json": {
       "model_id": "cbccbae31ca94d5383a5617bc7837fd6",
       "version_major": 2,
       "version_minor": 0
      },
      "text/plain": [
       "Output()"
      ]
     },
     "metadata": {},
     "output_type": "display_data"
    }
   ],
   "source": [
    "start_date = widgets.DatePicker(\n",
    "    description=\"Start Date\",\n",
    "    disabled=False\n",
    ")\n",
    "end_date = widgets.DatePicker(\n",
    "    description=\"End Date\",\n",
    "    disabled=False\n",
    ")\n",
    "\n",
    "button = widgets.Button(\n",
    "    description=\"Click me\",\n",
    "    disabled=False,\n",
    "    button_style=\"\", # 'success', 'info', 'warning', 'danger' or ''\n",
    "    tooltip=\"Click me\",\n",
    "    icon='check' # (FontAwesome names without the `fa-` prefix)\n",
    ")\n",
    "\n",
    "def fdate(start, end):\n",
    "    print(\n",
    "        \"\\nstart date: {}, end date: {}\\n\".format(start, end)\n",
    "    )\n",
    "\n",
    "date_out = widgets.interactive_output(\n",
    "    fdate, {\n",
    "        \"start\": start_date,\n",
    "        \"end\": end_date\n",
    "    }\n",
    ")\n",
    "\n",
    "display(start_date, end_date, button, date_out)"
   ]
  },
  {
   "cell_type": "code",
   "execution_count": 82,
   "id": "e25c5c73-1733-4a9e-ac08-cc7a11f1f04e",
   "metadata": {},
   "outputs": [
    {
     "name": "stdout",
     "output_type": "stream",
     "text": [
      "200\n",
      "{'data': {'rateLimit': {'limit': 5000, 'cost': 1, 'remaining': 4997, 'resetAt': '2025-07-18T18:46:20Z'}, 'repository': {'ref': {'target': {'history': {'pageInfo': {'hasNextPage': False, 'startCursor': 'a4966bc299919426fd77e5272bb7aac6f30ab73c 0', 'endCursor': 'a4966bc299919426fd77e5272bb7aac6f30ab73c 6'}, 'edges': [{'node': {'author': {'name': 'Vapre', 'email': 'anvilvapre@users.noreply.github.com'}}}, {'node': {'author': {'name': 'Matthias Mailänder', 'email': 'matthias@mailaender.name'}}}, {'node': {'author': {'name': 'Matthias Mailänder', 'email': 'matthias@mailaender.name'}}}, {'node': {'author': {'name': 'Ashley Newson', 'email': 'ashleynewson@smartsim.org.uk'}}}, {'node': {'author': {'name': 'Ashley Newson', 'email': 'ashleynewson@smartsim.org.uk'}}}, {'node': {'author': {'name': 'darkademic', 'email': '41052878+darkademic@users.noreply.github.com'}}}, {'node': {'author': {'name': 'darkademic', 'email': '41052878+darkademic@users.noreply.github.com'}}}]}}}}}}\n"
     ]
    }
   ],
   "source": [
    "def get_unique_commit_authors_between_dates(since, until):\n",
    "    \"\"\"\n",
    "    > Endpoint #1\n",
    "    \n",
    "    - Accepts: A start and end date.\n",
    "    \n",
    "    - Returns: A list of unique commit authors within the date constraints supplied.\n",
    "    \"\"\"\n",
    "    q = '''{\n",
    "      rateLimit {\n",
    "        limit\n",
    "        cost\n",
    "        remaining\n",
    "        resetAt\n",
    "      }\n",
    "      repository(name: \"OpenRA\", owner: \"OpenRA\") {\n",
    "        ref(qualifiedName: \"bleed\") {\n",
    "          target {\n",
    "            ... on Commit {\n",
    "              history(\n",
    "                  first: 100\n",
    "                  since: \"2025-07-17T00:00:00\"\n",
    "                  until: \"2025-07-18T00:00:00\"\n",
    "              ) {\n",
    "                pageInfo {\n",
    "                  hasNextPage\n",
    "                  startCursor\n",
    "                  endCursor\n",
    "                }\n",
    "                edges {\n",
    "                  node {\n",
    "                    author {\n",
    "                      name\n",
    "                      email\n",
    "    }}}}}}}}}'''\n",
    "    try:\n",
    "        r = requests.post(\n",
    "            GRAPHQL_URL,\n",
    "            json={\"query\": q},\n",
    "            headers=HEADERS\n",
    "        )\n",
    "        print(r.status_code)\n",
    "        print(r.json())\n",
    "    except Exception as e:\n",
    "        print(e)\n",
    "\n",
    "get_unique_commit_authors_between_dates(f\"{start_date.value}T00:00:00\", f\"{end_date.value}T00:00:00\")"
   ]
  },
  {
   "cell_type": "code",
   "execution_count": null,
   "id": "21e47020-d0a4-4c14-be3b-127cd4788323",
   "metadata": {},
   "outputs": [],
   "source": []
  }
 ],
 "metadata": {
  "kernelspec": {
   "display_name": "Python 3 (ipykernel)",
   "language": "python",
   "name": "python3"
  },
  "language_info": {
   "codemirror_mode": {
    "name": "ipython",
    "version": 3
   },
   "file_extension": ".py",
   "mimetype": "text/x-python",
   "name": "python",
   "nbconvert_exporter": "python",
   "pygments_lexer": "ipython3",
   "version": "3.13.5"
  }
 },
 "nbformat": 4,
 "nbformat_minor": 5
}
