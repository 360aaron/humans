{
 "cells": [
  {
   "cell_type": "code",
   "execution_count": 93,
   "id": "03577c16-647f-4c8b-8a18-44b7fce4b6f2",
   "metadata": {},
   "outputs": [],
   "source": [
    "from datetime import datetime, timedelta\n",
    "from dotenv import load_dotenv\n",
    "from ipywidgets import (\n",
    "    interact, interactive, fixed, interact_manual, Layout\n",
    ")\n",
    "import ipywidgets as widgets\n",
    "import json\n",
    "import os\n",
    "import time\n",
    "import requests\n",
    "\n",
    "load_dotenv()\n",
    "\n",
    "TOKEN = os.getenv('TOKEN')\n",
    "\n",
    "HEADERS = {\"Authorization\": f\"Bearer {TOKEN}\"}\n",
    "\n",
    "GRAPHQL_URL = \"https://api.github.com/graphql\""
   ]
  },
  {
   "cell_type": "code",
   "execution_count": 94,
   "id": "0f801cfa-470e-4e38-aaf5-abe88acd2c84",
   "metadata": {},
   "outputs": [
    {
     "data": {
      "application/vnd.jupyter.widget-view+json": {
       "model_id": "660d1fbffd6c40cbab8183ffb8e5cb2c",
       "version_major": 2,
       "version_minor": 0
      },
      "text/plain": [
       "DatePicker(value=datetime.datetime(2024, 7, 18, 13, 12, 56, 545461), description='Start Date', step=1)"
      ]
     },
     "metadata": {},
     "output_type": "display_data"
    },
    {
     "data": {
      "application/vnd.jupyter.widget-view+json": {
       "model_id": "7f5b1d1361144bd4b33344c24a18072c",
       "version_major": 2,
       "version_minor": 0
      },
      "text/plain": [
       "DatePicker(value=datetime.datetime(2025, 7, 17, 13, 12, 56, 548085), description='End Date', step=1)"
      ]
     },
     "metadata": {},
     "output_type": "display_data"
    },
    {
     "data": {
      "application/vnd.jupyter.widget-view+json": {
       "model_id": "4af8b4226aeb43deb271a1b4cc58445a",
       "version_major": 2,
       "version_minor": 0
      },
      "text/plain": [
       "Button(description='Click me', icon='check', style=ButtonStyle(), tooltip='Click me')"
      ]
     },
     "metadata": {},
     "output_type": "display_data"
    },
    {
     "data": {
      "application/vnd.jupyter.widget-view+json": {
       "model_id": "675b36ce677642a1937c506be7e03341",
       "version_major": 2,
       "version_minor": 0
      },
      "text/plain": [
       "Output()"
      ]
     },
     "metadata": {},
     "output_type": "display_data"
    }
   ],
   "source": [
    "start_date = widgets.DatePicker(\n",
    "    value=datetime.now() - timedelta(days=365),\n",
    "    description='Start Date',\n",
    "    disabled=False\n",
    ")\n",
    "end_date = widgets.DatePicker(\n",
    "    value=datetime.now() - timedelta(days=1),\n",
    "    description='End Date',\n",
    "    disabled=False\n",
    ")\n",
    "\n",
    "button = widgets.Button(\n",
    "    description=\"Click me\",\n",
    "    disabled=False,\n",
    "    button_style=\"\", # 'success', 'info', 'warning', 'danger' or ''\n",
    "    tooltip=\"Click me\",\n",
    "    icon='check' # (FontAwesome names without the `fa-` prefix)\n",
    ")\n",
    "\n",
    "def fdate(start, end):\n",
    "    print(\n",
    "        \"\\nstart date: {}, end date: {}\\n\".format(start, end)\n",
    "    )\n",
    "\n",
    "date_out = widgets.interactive_output(\n",
    "    fdate, {\n",
    "        \"start\": start_date,\n",
    "        \"end\": end_date\n",
    "    }\n",
    ")\n",
    "\n",
    "display(start_date, end_date, button, date_out)"
   ]
  },
  {
   "cell_type": "code",
   "execution_count": 106,
   "id": "e25c5c73-1733-4a9e-ac08-cc7a11f1f04e",
   "metadata": {},
   "outputs": [
    {
     "name": "stdout",
     "output_type": "stream",
     "text": [
      "\n",
      "Searching for commit authors since 2025-07-01T00:00:00 until 2025-07-18T00:00:00\n",
      "\n",
      "Found 15 commits since 2025-07-01T00:00:00\n",
      "\n",
      "***Unique authors: \n",
      "\n",
      "{'68965911+toasted-dev@users.noreply.github.com', '41052878+darkademic@users.noreply.github.com', '119738087+michaeldgg2@users.noreply.github.com', 'matthias@mailaender.name', 'jms.happycat@gmail.com', 'ashleynewson@smartsim.org.uk', 'anvilvapre@users.noreply.github.com'}\n",
      "\n",
      "\n"
     ]
    }
   ],
   "source": [
    "def get_unique_commit_authors_between_dates(since, until):\n",
    "    \"\"\"\n",
    "    > Endpoint #1\n",
    "    \n",
    "    - Accepts: A start and end date.\n",
    "    \n",
    "    - Returns: A list of unique commit authors within the date constraints supplied.\n",
    "    \"\"\"\n",
    "    print(f\"\\nSearching for commit authors since {since} until {until}\\n\")\n",
    "    q = (\n",
    "        \"{ rateLimit { limit cost remaining resetAt } \"\n",
    "        \" repository(name: \\\"OpenRA\\\", owner: \\\"OpenRA\\\") { \"\n",
    "        \" ref(qualifiedName: \\\"bleed\\\") { target { ... on Commit { \"\n",
    "        f\" history( first: 100 since: \\\"{since}\\\" until: \\\"{until}\\\") \"\n",
    "        \" { pageInfo { hasNextPage startCursor endCursor } \"\n",
    "        \" edges { node { author { name email }}}}}}}}}\"\n",
    "    )\n",
    "    try:\n",
    "        authors = set()\n",
    "        while q is not None:\n",
    "            r = requests.post(\n",
    "                GRAPHQL_URL,\n",
    "                json={\"query\": q},\n",
    "                headers=HEADERS\n",
    "            )\n",
    "            if r.status_code == 429:\n",
    "                time.sleep(60)\n",
    "            if r.status_code != 200:\n",
    "                print(\"uh oh\")\n",
    "                raise\n",
    "            response = r.json()\n",
    "            # print(response)\n",
    "            commits = response[\"data\"][\"repository\"][\"ref\"][\"target\"][\"history\"][\"edges\"]\n",
    "            print(f\"Found {len(commits)} commits since {since}\")\n",
    "            for commit in commits:\n",
    "                authors.add(commit[\"node\"][\"author\"][\"email\"])\n",
    "            if response[\"data\"][\"repository\"][\"ref\"][\"target\"][\"history\"][\"pageInfo\"][\"hasNextPage\"] == True:\n",
    "                after = response[\"data\"][\"repository\"][\"ref\"][\"target\"][\"history\"][\"pageInfo\"][\"endCursor\"]\n",
    "                q = (\n",
    "                    \"{ rateLimit { limit cost remaining resetAt } \"\n",
    "                    \" repository(name: \\\"OpenRA\\\", owner: \\\"OpenRA\\\") { \"\n",
    "                    \" ref(qualifiedName: \\\"bleed\\\") { target { ... on Commit { \"\n",
    "                    f\" history( first: 100 after {after}) \"\n",
    "                    \" { pageInfo { hasNextPage startCursor endCursor } \"\n",
    "                    \" edges { node { author { name email }}}}}}}}}\"\n",
    "                )\n",
    "            else:\n",
    "                q = None\n",
    "        print(f\"\\n***Unique authors: \\n\\n{authors}\\n\\n\")\n",
    "    except Exception as e:\n",
    "        print(e)\n",
    "        raise\n",
    "\n",
    "get_unique_commit_authors_between_dates(\n",
    "    f\"{start_date.value}T00:00:00\",\n",
    "    f\"{end_date.value}T00:00:00\"\n",
    ")"
   ]
  },
  {
   "cell_type": "code",
   "execution_count": null,
   "id": "21e47020-d0a4-4c14-be3b-127cd4788323",
   "metadata": {},
   "outputs": [],
   "source": []
  }
 ],
 "metadata": {
  "kernelspec": {
   "display_name": "Python 3 (ipykernel)",
   "language": "python",
   "name": "python3"
  },
  "language_info": {
   "codemirror_mode": {
    "name": "ipython",
    "version": 3
   },
   "file_extension": ".py",
   "mimetype": "text/x-python",
   "name": "python",
   "nbconvert_exporter": "python",
   "pygments_lexer": "ipython3",
   "version": "3.13.5"
  }
 },
 "nbformat": 4,
 "nbformat_minor": 5
}
